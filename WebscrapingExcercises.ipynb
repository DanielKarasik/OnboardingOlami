{
  "cells": [
    {
      "cell_type": "code",
      "execution_count": 92,
      "metadata": {
        "colab": {
          "base_uri": "https://localhost:8080/"
        },
        "id": "QKcyZZL0pMsO",
        "outputId": "271ca969-9791-4e2e-f841-e74efca1b30e"
      },
      "outputs": [
        {
          "name": "stdout",
          "output_type": "stream",
          "text": [
            "Requirement already satisfied: beautifulsoup4 in /usr/local/lib/python3.10/dist-packages (4.11.2)\n",
            "Requirement already satisfied: soupsieve>1.2 in /usr/local/lib/python3.10/dist-packages (from beautifulsoup4) (2.4.1)\n"
          ]
        }
      ],
      "source": [
        "!pip install beautifulsoup4"
      ]
    },
    {
      "cell_type": "code",
      "execution_count": 93,
      "metadata": {
        "id": "utqEUCxBpd58"
      },
      "outputs": [],
      "source": [
        "import requests\n",
        "import bs4\n",
        "from bs4 import BeautifulSoup"
      ]
    },
    {
      "cell_type": "code",
      "execution_count": 94,
      "metadata": {
        "id": "c9o1tXyEpjAt"
      },
      "outputs": [],
      "source": [
        "url = 'https://www.lakeshoresf.com/10-exercises-youve-been-doing-wrong-at-home/'\n",
        "html = requests.get(url)"
      ]
    },
    {
      "cell_type": "code",
      "execution_count": 95,
      "metadata": {
        "colab": {
          "base_uri": "https://localhost:8080/"
        },
        "id": "Q3lMKJr0shPD",
        "outputId": "9ff9b993-2368-442d-9cf6-007600baa1f2"
      },
      "outputs": [
        {
          "name": "stdout",
          "output_type": "stream",
          "text": [
            "Plank\n",
            "Sit-Ups\n",
            "Glute Bridge\n",
            "Squats\n",
            "Push-Ups\n",
            "Triceps Dips\n",
            "Forward Lunges\n",
            "Side Lunges\n",
            "Donkey Kicks\n",
            "Mountain Climbers\n"
          ]
        }
      ],
      "source": [
        "s = BeautifulSoup(html.content,'html.parser')\n",
        "results = s.find(id='mainContent')\n",
        "workout_name = results.find_all('h3', class_=\"wp-block-heading\")\n",
        "\n",
        "for excercise in workout_name:\n",
        "  for num in range(len(excercise.text)):\n",
        "    if excercise.text[num].isalpha() and excercise.text[0].isnumeric():\n",
        "      print(excercise.text[num:])\n",
        "      break"
      ]
    }
  ],
  "metadata": {
    "colab": {
      "provenance": []
    },
    "kernelspec": {
      "display_name": "Python 3",
      "name": "python3"
    },
    "language_info": {
      "name": "python"
    }
  },
  "nbformat": 4,
  "nbformat_minor": 0
}
