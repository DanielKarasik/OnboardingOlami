{
  "nbformat": 4,
  "nbformat_minor": 0,
  "metadata": {
    "colab": {
      "provenance": []
    },
    "kernelspec": {
      "name": "python3",
      "display_name": "Python 3"
    },
    "language_info": {
      "name": "python"
    }
  },
  "cells": [
    {
      "cell_type": "code",
      "execution_count": 2,
      "metadata": {
        "colab": {
          "base_uri": "https://localhost:8080/"
        },
        "id": "VCYLmNh-8msn",
        "outputId": "5f1820a7-0c9f-43e9-d4ba-8cc2f4cc6f48"
      },
      "outputs": [
        {
          "output_type": "stream",
          "name": "stdout",
          "text": [
            "Requirement already satisfied: transformers in /usr/local/lib/python3.10/dist-packages (4.30.2)\n",
            "Requirement already satisfied: filelock in /usr/local/lib/python3.10/dist-packages (from transformers) (3.12.2)\n",
            "Requirement already satisfied: huggingface-hub<1.0,>=0.14.1 in /usr/local/lib/python3.10/dist-packages (from transformers) (0.16.4)\n",
            "Requirement already satisfied: numpy>=1.17 in /usr/local/lib/python3.10/dist-packages (from transformers) (1.22.4)\n",
            "Requirement already satisfied: packaging>=20.0 in /usr/local/lib/python3.10/dist-packages (from transformers) (23.1)\n",
            "Requirement already satisfied: pyyaml>=5.1 in /usr/local/lib/python3.10/dist-packages (from transformers) (6.0)\n",
            "Requirement already satisfied: regex!=2019.12.17 in /usr/local/lib/python3.10/dist-packages (from transformers) (2022.10.31)\n",
            "Requirement already satisfied: requests in /usr/local/lib/python3.10/dist-packages (from transformers) (2.27.1)\n",
            "Requirement already satisfied: tokenizers!=0.11.3,<0.14,>=0.11.1 in /usr/local/lib/python3.10/dist-packages (from transformers) (0.13.3)\n",
            "Requirement already satisfied: safetensors>=0.3.1 in /usr/local/lib/python3.10/dist-packages (from transformers) (0.3.1)\n",
            "Requirement already satisfied: tqdm>=4.27 in /usr/local/lib/python3.10/dist-packages (from transformers) (4.65.0)\n",
            "Requirement already satisfied: fsspec in /usr/local/lib/python3.10/dist-packages (from huggingface-hub<1.0,>=0.14.1->transformers) (2023.6.0)\n",
            "Requirement already satisfied: typing-extensions>=3.7.4.3 in /usr/local/lib/python3.10/dist-packages (from huggingface-hub<1.0,>=0.14.1->transformers) (4.7.1)\n",
            "Requirement already satisfied: urllib3<1.27,>=1.21.1 in /usr/local/lib/python3.10/dist-packages (from requests->transformers) (1.26.16)\n",
            "Requirement already satisfied: certifi>=2017.4.17 in /usr/local/lib/python3.10/dist-packages (from requests->transformers) (2023.5.7)\n",
            "Requirement already satisfied: charset-normalizer~=2.0.0 in /usr/local/lib/python3.10/dist-packages (from requests->transformers) (2.0.12)\n",
            "Requirement already satisfied: idna<4,>=2.5 in /usr/local/lib/python3.10/dist-packages (from requests->transformers) (3.4)\n",
            "Requirement already satisfied: beautifulsoup4 in /usr/local/lib/python3.10/dist-packages (4.11.2)\n",
            "Requirement already satisfied: soupsieve>1.2 in /usr/local/lib/python3.10/dist-packages (from beautifulsoup4) (2.4.1)\n"
          ]
        }
      ],
      "source": [
        "#installations\n",
        "!pip install transformers\n",
        "!pip install beautifulsoup4"
      ]
    },
    {
      "cell_type": "code",
      "source": [
        "#importing libraries\n",
        "from transformers import BartTokenizer, BartForConditionalGeneration, BartConfig\n",
        "import requests\n",
        "import bs4\n",
        "from bs4 import BeautifulSoup\n",
        "from transformers import pipeline\n"
      ],
      "metadata": {
        "id": "kcqzVCARIEzQ"
      },
      "execution_count": 3,
      "outputs": []
    },
    {
      "cell_type": "code",
      "source": [
        "#retrieves and requests website url\n",
        "url = 'https://www.lakeshoresf.com/10-exercises-youve-been-doing-wrong-at-home/'\n",
        "html = requests.get(url)"
      ],
      "metadata": {
        "id": "rs-kIHxcJgiy"
      },
      "execution_count": 4,
      "outputs": []
    },
    {
      "cell_type": "code",
      "source": [
        "#created instance of pretrained model to be used and initializes a tokenizer\n",
        "model = BartForConditionalGeneration.from_pretrained('facebook/bart-large-cnn')\n",
        "tokenizer = BartTokenizer.from_pretrained('facebook/bart-large-cnn')"
      ],
      "metadata": {
        "id": "ujjIqBoRMeOx"
      },
      "execution_count": 5,
      "outputs": []
    },
    {
      "cell_type": "code",
      "source": [
        "#grabs paragraphs from article\n",
        "s = BeautifulSoup(html.content,'html.parser')\n",
        "results = s.find(id='mainContent')\n",
        "paragraphs = results.find_all(\"p\")\n",
        "s=\"\"\n",
        "summarizer = pipeline(\"summarization\", model=\"facebook/bart-large-cnn\")\n",
        "\n",
        "#loops through each paragraph and summarizes each one\n",
        "for p in paragraphs:\n",
        "  s=p.text\n",
        "  ARTICLE = s\n",
        "  #use split to get word count then divide word count by 2 for max_length\n",
        "  txt = s.split()\n",
        "  word_count = len(txt)\n",
        "  #makes sure its a viable paragraph\n",
        "  if word_count>25:\n",
        "    summary = summarizer(ARTICLE, max_length=int(word_count/2), min_length=0, do_sample=False)\n",
        "    summary_text = summary[0]['summary_text']\n",
        "    summary_text = summary_text.replace(\"{'summary_text': \\\"\", \"\").replace(\"\\\"}\", \"\")\n",
        "    print(summary_text)"
      ],
      "metadata": {
        "colab": {
          "base_uri": "https://localhost:8080/"
        },
        "id": "BIjchfwMKDzP",
        "outputId": "58960208-6ee5-4726-9bc7-3ef82095b809"
      },
      "execution_count": 7,
      "outputs": [
        {
          "output_type": "stream",
          "name": "stdout",
          "text": [
            "With fitness centers temporarily closed in the Chicago area, many are resorting to at-home workouts. Bodyweight exercises are convenient as they don’t require any\n",
            "The most common mistakes people make when planking are sagging their hips too low or raising them too high. Sagging\n",
            "Focus should be on your abdominals, obliques, and lower back. You want to tighten your abdominal muscles to pull you upward. You can also cross\n",
            "Look straight ahead and let your core do the work\n",
            "The glute bridge is a great way to strengthen your glutes, hamstrings, and lower back. It is especially helpful if you sit a lot during the day.\n",
            "Don't push off your toes. Avoid flaring your chest or\n",
            "One of the more common mistakes with squats is that people start by bending their knees. What you should do instead is push your hips\n",
            "As far as feet positioning goes, they should be about shoulder-width apart and pointing forwards.\n",
            "Push-ups are an excellent way to strengthen the upper\n",
            "Your elbows should form a 45-degree angle from your body. Positioning your hands too wide will cause your elbows to flare\n",
            "Keep your whole body aligned – from shoulder to heel (like a plank) Your whole body should move up and\n",
            "You should pace the amount of reps you do in each set if you get fatigued.\n",
            "Triceps dips are perfect for at-home workouts because they can be done on any sturdy furniture like a bench, chair, or couch. The objective is to isolate your triceps and shoulders so\n",
            "The forward lunge is a simple way to strengthen the leg muscles responsible for forward movement. When you step forward into your lunge, your front knee should form a 90-degree angle.\n",
            "Your bent knee should be in line with your toes. Avoid overextending as this will put unwanted strain on the knee. Foot positioning is also important. The toes of your bent leg\n",
            "Donkey kicks are a great way to warm up your glutes and hip flexors. We want to isolate the glutes with this exercise so the lower back should be flat.\n",
            "The starting position is the same as a push-up with your arms extended. Keep your whole body aligned in a straight line\n",
            "Don't allow your toes to touch the ground as you drive your knee to your chest. Keep your hips stable and don’t sway to\n",
            "Safety is always a top priority – hence the importance of proper exercise form. A few additional tips we’d like to include are to never hold your breath and\n"
          ]
        }
      ]
    }
  ]
}